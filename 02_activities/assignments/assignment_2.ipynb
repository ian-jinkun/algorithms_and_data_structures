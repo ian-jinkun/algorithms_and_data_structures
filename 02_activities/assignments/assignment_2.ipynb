{
 "cells": [
  {
   "cell_type": "markdown",
   "metadata": {},
   "source": [
    "# Practice Interview\n",
    "\n",
    "## Objective\n",
    "\n",
    "_*The partner assignment aims to provide participants with the opportunity to practice coding in an interview context. You will analyze your partner's Assignment 1. Moreover, code reviews are common practice in a software development team. This assignment should give you a taste of the code review process.*_\n",
    "\n",
    "## Group Size\n",
    "\n",
    "Each group should have 2 people. You will be assigned a partner\n",
    "\n",
    "## Parts:\n",
    "- Part 1: Complete 1 of 3 questions\n",
    "- Part 2: Review your partner's Assignment 1 submission\n",
    "- Part 3: Perform code review of your partner's assignment 1 by answering the questions below\n",
    "- Part 3: Reflect on Assignment 1 and Assignment 2\n",
    "\n",
    "## Part 1:\n",
    "\n",
    "_*You will be assigned one of three problems based of your first name. Enter your first name, in all lower case, execute the code below, and that will tell you your assigned problem. Include the output as part of your submission (do not clear the output). The problems are based-off problems from Leetcode.*_"
   ]
  },
  {
   "cell_type": "code",
   "execution_count": 1,
   "metadata": {},
   "outputs": [
    {
     "name": "stdout",
     "output_type": "stream",
     "text": [
      "1\n"
     ]
    }
   ],
   "source": [
    "import hashlib\n",
    "\n",
    "def hash_to_range(input_string: str) -> int:\n",
    "     hash_object = hashlib.sha256(input_string.encode())\n",
    "     hash_int = int(hash_object.hexdigest(), 16)\n",
    "     return (hash_int % 3) + 1\n",
    "input_string = \"jinkun\"\n",
    "result = hash_to_range(input_string)\n",
    "print(result)\n"
   ]
  },
  {
   "cell_type": "markdown",
   "metadata": {},
   "source": [
    "<details>\n",
    "  <summary>Question 1</summary>\n",
    "\n",
    "  # Question One: Check Duplicates in Tree\n",
    "\n",
    "  Given the `root` of a binary tree, check whether it is contains a duplicate value. If a duplicate exists, return the duplicate value. If there are multiple duplicates, return the one with the closest distance to the root. If no duplicate exists, return -1.\n",
    "\n",
    "  ## Examples\n",
    "\n",
    "  ### Example 1\n",
    "\n",
    "  ![](./images/q1_ex1.png)\n",
    "\n",
    "  Input: `root = [1, 2, 2, 3, 5, 6, 7]` *What traversal method is this?*\n",
    "\n",
    "  Output: 2\n",
    "\n",
    "  ### Example 2\n",
    "\n",
    "  ![](./images/q1_ex2.png)\n",
    "\n",
    "  Input: `root = [1, 10, 2, 3, 10, 12, 12]`\n",
    "\n",
    "  Output: 10\n",
    "\n",
    "  ### Example 3\n",
    "\n",
    "  ![](./images/q1_ex3.png)\n",
    "\n",
    "  Input: `root = [10, 9, 8, 7]`\n",
    "\n",
    "  Output: -1\n",
    "\n",
    "</details>\n",
    "\n",
    "#### Starter Code for Question 1"
   ]
  },
  {
   "cell_type": "code",
   "execution_count": 15,
   "metadata": {},
   "outputs": [],
   "source": [
    "# Definition for a binary tree node.\n",
    "class TreeNode(object):\n",
    "    def __init__(self, val = 0, left = None, right = None):\n",
    "        self.val = val\n",
    "        self.left = left\n",
    "        self.right = right\n",
    "\n",
    "from collections import deque\n",
    "def is_duplicate(root: TreeNode) -> int: \n",
    "  if root == None:\n",
    "      return -1\n",
    "  queue = deque()\n",
    "  hash = set()\n",
    "  queue.append(root)\n",
    "\n",
    "  while queue:\n",
    "      curr_node = queue.popleft()\n",
    "      curr_val = curr_node.val\n",
    "      if curr_val in hash:\n",
    "          return curr_val\n",
    "      hash.add(curr_val)\n",
    "\n",
    "      if curr_node.left:\n",
    "          queue.append(curr_node.left)\n",
    "      if curr_node.right:\n",
    "          queue.append(curr_node.right)\n",
    "  \n",
    "  return -1\n"
   ]
  },
  {
   "cell_type": "code",
   "execution_count": 18,
   "metadata": {},
   "outputs": [
    {
     "name": "stdout",
     "output_type": "stream",
     "text": [
      "Input is [1, 2, 2, 3, 5, 6, 7]\n",
      "Output is 2\n",
      "\n",
      "Input is [1, 10, 2, 3, 10, 12, 12]\n",
      "Output is 10\n",
      "\n",
      "Input is [10, 9, 8, 7]\n",
      "Output is -1\n",
      "\n"
     ]
    }
   ],
   "source": [
    "def build_complete_biany_tree(root:list):\n",
    "    n = len(root)\n",
    "    if n == 0:\n",
    "        return None\n",
    "\n",
    "    node_list = []\n",
    "    for i in range(n):\n",
    "        if root[i] != None:\n",
    "            node_list.append(TreeNode(val=root[i]))\n",
    "        else:\n",
    "            node_list.append(None)\n",
    "\n",
    "\n",
    "    for i in range(n):\n",
    "        curr_root_node = node_list[i]\n",
    "        if curr_root_node == None:\n",
    "            continue\n",
    "        \n",
    "        left_index = i*2+1\n",
    "        right_index = i*2+2\n",
    "        if left_index < n and node_list[left_index]:\n",
    "            curr_root_node.left = node_list[left_index]\n",
    "        if right_index < n and node_list[right_index]:\n",
    "            curr_root_node.right = node_list[right_index]\n",
    "    \n",
    "    return node_list[0]\n",
    "\n",
    "root_list1 = [1, 2, 2, 3, 5, 6, 7]\n",
    "root1 = build_complete_biany_tree(root_list1)\n",
    "\n",
    "root_list2 = [1, 10, 2, 3, 10, 12, 12]\n",
    "root2 = build_complete_biany_tree(root_list2)\n",
    "\n",
    "root_list3 = [10, 9, 8, 7]\n",
    "root3 = build_complete_biany_tree(root_list3)\n",
    "\n",
    "output1 = is_duplicate(root1)\n",
    "print(f'Input is {root_list1}\\nOutput is {output1}\\n')\n",
    "\n",
    "output2 = is_duplicate(root2)\n",
    "print(f'Input is {root_list2}\\nOutput is {output2}\\n')\n",
    "\n",
    "output3 = is_duplicate(root3)\n",
    "print(f'Input is {root_list3}\\nOutput is {output3}\\n')"
   ]
  },
  {
   "cell_type": "markdown",
   "metadata": {},
   "source": [
    "<details>\n",
    "  <summary>Question 2</summary>\n",
    "\n",
    "  # Question Two: Path to Leaves\n",
    "\n",
    "  Given the `root` of a binary tree, return all root to leaf paths in any order.\n",
    "\n",
    "  ## Examples\n",
    "\n",
    "  ### Example 1\n",
    "\n",
    "  ![](./images/q1_ex1.png)\n",
    "\n",
    "  Input: `root = [1, 2, 2, 3, 5, 6, 7]` *What traversal method is this?*\n",
    "\n",
    "  Output: [[1, 2, 3], [1, 2, 5], [1, 2, 6], [1, 2, 7]]\n",
    "\n",
    "  ### Example 2\n",
    "\n",
    "  ![](./images/q1_ex3.png)\n",
    "\n",
    "  Input: `root = [10, 9, 7, 8]`\n",
    "\n",
    "  Output: [[10, 7], [10, 9, 8]]\n",
    "\n",
    "</details>\n",
    "\n",
    "#### Starter Code for Question 2"
   ]
  },
  {
   "cell_type": "code",
   "execution_count": 29,
   "metadata": {},
   "outputs": [
    {
     "name": "stdout",
     "output_type": "stream",
     "text": [
      "Input is [1, 2, 2, 3, 5, 6, 7]\n",
      "Output is [[1, 2, 3], [1, 2, 5], [1, 2, 6], [1, 2, 7]]\n",
      "\n",
      "Input is [1, 10, 2, 3, 10, 12, 12]\n",
      "Output is [[1, 10, 3], [1, 10, 10], [1, 2, 12], [1, 2, 12]]\n",
      "\n",
      "Input is [10, 9, 8, 7]\n",
      "Output is [[10, 9, 7], [10, 8]]\n",
      "\n"
     ]
    }
   ],
   "source": [
    "# Definition for a binary tree node.\n",
    "# class TreeNode(object):\n",
    "#     def __init__(self, val = 0, left = None, right = None):\n",
    "#         self.val = val\n",
    "#         self.left = left\n",
    "#         self.right = right\n",
    "from typing import List\n",
    "import copy\n",
    "\n",
    "def bt_path(root: TreeNode) -> List[List[int]]:\n",
    "  res = []\n",
    "  curr = []\n",
    "  bt_path_helper(root, res, curr)\n",
    "  return res\n",
    "\n",
    "def bt_path_helper(root: TreeNode, res:list, curr:list):\n",
    "  if root == None:\n",
    "    return\n",
    "  \n",
    "  curr.append(root.val)\n",
    "  if not root.left and not root.right:\n",
    "    res.append(copy.deepcopy(curr))\n",
    "  \n",
    "  bt_path_helper(root.left, res, curr)\n",
    "  bt_path_helper(root.right, res, curr)\n",
    "  curr.pop()\n",
    "\n",
    "output1 = bt_path(root1)\n",
    "print(f'Input is {root_list1}\\nOutput is {output1}\\n')\n",
    "\n",
    "output2 = bt_path(root2)\n",
    "print(f'Input is {root_list2}\\nOutput is {output2}\\n')\n",
    "\n",
    "output3 = bt_path(root3)\n",
    "print(f'Input is {root_list3}\\nOutput is {output3}\\n')\n",
    "\n"
   ]
  },
  {
   "cell_type": "markdown",
   "metadata": {},
   "source": [
    "<details>\n",
    "  <summary>Question 3</summary>\n",
    "\n",
    "  # Question Three: Missing Number in Range\n",
    " \n",
    "  You are given a list containing `n` integers in the range `[0, n]`. Return a list of numbers that are missing from the range `[0, n]` of the array. If there is no missing number, return -1. Note, all the integers in the list may not be unique.\n",
    "  \n",
    "  ## Examples\n",
    "\n",
    "  ### Example 1\n",
    "\n",
    "  Input: `lst = [0, 2]`\n",
    "\n",
    "  Output: [1]\n",
    "\n",
    "  ### Example 2\n",
    "\n",
    "  Input: `lst = [5, 0, 1]`\n",
    "\n",
    "  Output: [2, 3, 4]\n",
    "\n",
    "  ### Example 3\n",
    "\n",
    "  Input: `lst = [6, 8, 2, 3, 5, 7, 0, 1, 10]`\n",
    "\n",
    "  Output: [4, 9]\n",
    "\n",
    "</details>\n",
    "\n",
    "#### Starter Code for Question 3\n"
   ]
  },
  {
   "cell_type": "code",
   "execution_count": null,
   "metadata": {
    "scrolled": true
   },
   "outputs": [],
   "source": [
    "def missing_num(nums: List) -> int:\n",
    "  # TODO"
   ]
  },
  {
   "cell_type": "markdown",
   "metadata": {
    "jp-MarkdownHeadingCollapsed": true
   },
   "source": [
    "## Part 2:\n",
    "\n",
    "You and your partner must share each other's Assignment 1 submission."
   ]
  },
  {
   "cell_type": "markdown",
   "metadata": {},
   "source": [
    "\n",
    "## Part 3:\n",
    "\n",
    "Create a Jupyter Notebook, create 6 of the following headings, and complete the following for your partner's assignment 1:\n",
    "\n",
    "-   Paraphrase the problem in your own words.\n"
   ]
  },
  {
   "cell_type": "markdown",
   "metadata": {},
   "source": [
    "\n",
    "Kirby have solved question Two, Valid Bracket Sequence in assignment\n",
    "\n",
    "The problem is asking us to check whether a string of brackets is valid. A valid bracket string means that every opening bracket (`(`, `[`, `{`) has a correct and properly ordered closing bracket (`)`, `]`, `}`), and all pairs are correctly nested.\n",
    "\n",
    "In other words, we’re checking if the brackets are properly balanced and closed in the right order。"
   ]
  },
  {
   "cell_type": "markdown",
   "metadata": {},
   "source": [
    "\n",
    "-   Create 1 new example that demonstrates you understand the problem. Trace/walkthrough 1 example that your partner made and explain it.\n"
   ]
  },
  {
   "cell_type": "markdown",
   "metadata": {},
   "source": [
    "Let‘s try this example:\n",
    "\n",
    "s = \"[({})]\"\n",
    "Expected output: True\n",
    "Explanation: Each opening bracket has a matching closing one in the correct order\n",
    "\n",
    "And another one:\n",
    "s = \"[({}]))\"\n",
    "Expected output: False\n",
    "Explanation: There’s an extra closing bracket at the end, which breaks the balance.\n",
    "\n",
    "Let’s look at this example from my partner:\n",
    "s = \"[{]}\"\n",
    "\n",
    "step-by-step:\n",
    "\t    First character: [ → push to stack → stack = [[]\n",
    "\t    Second character: { → push to stack → stack = [[, {]\n",
    "\t    Third character: ] → push to stack → stack = [[, {, ]]\n",
    "\t    Fourth character: } → push to stack → stack = [[, {, ], }]\n",
    "        \n",
    "Therefore it returns False"
   ]
  },
  {
   "cell_type": "markdown",
   "metadata": {},
   "source": [
    "\n",
    "-   Copy the solution your partner wrote. \n"
   ]
  },
  {
   "cell_type": "code",
   "execution_count": null,
   "metadata": {},
   "outputs": [],
   "source": [
    "# Your answer here\n",
    "def is_valid_brackets(s: str) -> bool:\n",
    "\n",
    "    open = {\n",
    "        '{':'}',\n",
    "        '[':']',\n",
    "        '(':')'\n",
    "    }\n",
    "\n",
    "    close = {\n",
    "        '}':'{',\n",
    "        ']':'[',\n",
    "        ')':'('\n",
    "    }\n",
    "\n",
    "    stack = []\n",
    "\n",
    "    for bracket in s:\n",
    "\n",
    "        if bracket in open:\n",
    "            stack.append(bracket)\n",
    "\n",
    "        elif bracket in close:\n",
    "\n",
    "            if stack[-1] != close[bracket]:\n",
    "                return False\n",
    "            else:\n",
    "                stack.pop()\n",
    "                \n",
    "    if len(stack) == 0:\n",
    "        return True\n",
    "    return False"
   ]
  },
  {
   "cell_type": "markdown",
   "metadata": {},
   "source": [
    "\n",
    "-   Explain why their solution works in your own words.\n"
   ]
  },
  {
   "cell_type": "markdown",
   "metadata": {},
   "source": [
    "Kirby's solution works because it uses a `stack`, which is the ideal data structure for matching open and close brackets in the correct order.\n",
    "\n",
    "Here’s how it works in simple terms:\n",
    "\n",
    "It loops through each character in the string.\n",
    "If it finds an opening bracket like `(`, `[`, or `{`, it pushes it onto the stack.\n",
    "If it finds a closing bracket like `)`, `]`, or `}`, it checks if the top of the stack has the correct matching opening bracket.\n",
    "If it does, it pops the opening bracket from the stack.\n",
    "If not, or if the stack is empty, it means the brackets are not properly balanced, so it returns `False`.\n",
    "\n",
    "At the end, if the stack is empty, it means every opening bracket had a correct closing bracket in the right order, so it returns `True`.\n",
    "\n",
    "This approach works well because it checks both pair matching and nesting order using last-in-first-out logic."
   ]
  },
  {
   "cell_type": "markdown",
   "metadata": {},
   "source": [
    "\n",
    "-   Explain the problem’s time and space complexity in your own words.\n"
   ]
  },
  {
   "cell_type": "markdown",
   "metadata": {},
   "source": [
    "Time Complexity: O(n)\n",
    "The function loops through each character in the input string exactly once.  \n",
    "For each character, it either adds to or removes from the stack, which are constant-time operations.  \n",
    "So overall, the time grows linearly with the size of the input string, that is n.\n",
    "\n",
    "Space Complexity: O(n)\n",
    "In the worst case, if the string contains only opening brackets, the stack will store all of them.  \n",
    "That means the space used by the stack can grow up to the size of the input string, so the space complexity is also O(n).\n"
   ]
  },
  {
   "cell_type": "markdown",
   "metadata": {},
   "source": [
    "\n",
    "-   Critique your partner's solution, including explanation, and if there is anything that should be adjusted.\n"
   ]
  },
  {
   "cell_type": "markdown",
   "metadata": {},
   "source": [
    "\n",
    "The overall logic is correct and well-structured.It uses a stack, which is the right data structure for this kind of matching problem.\n",
    "The use of `open` and `close` dictionaries is a nice touch — it makes the matching logic clear and readable.\n",
    "The test cases cover a mix of valid and invalid inputs, which is great for checking edge cases.\n",
    "\n",
    "What could be improved:\n",
    "The solution assumes the stack is not empty when popping (i.e., it doesn't check if `stack` is empty before accessing `stack[-1]`).  \n",
    "  This could cause an `IndexError` if a closing bracket appears before any opening one.  \n",
    "  Suggestion: Add a check like `if not stack or stack[-1] != close[bracket]: return False`.\n"
   ]
  },
  {
   "cell_type": "markdown",
   "metadata": {},
   "source": [
    "\n",
    "## Part 4:\n",
    "\n",
    "Please write a 200 word reflection documenting your process from assignment 1, and your presentation and review experience with your partner at the bottom of the Jupyter Notebook under a new heading \"Reflection.\" Again, export this Notebook as pdf.\n"
   ]
  },
  {
   "cell_type": "markdown",
   "metadata": {},
   "source": [
    "### Reflection"
   ]
  },
  {
   "cell_type": "markdown",
   "metadata": {},
   "source": [
    "In Assignment 1, I did Question 1 that find the first repeated number in a list of integers. The goal is to scan the list from left to right and return the first number that appears multiple times. When traversing the list, I use set to track the elements that have been seen, which helps me effectively identify the first duplicate element within O(n) time. This has strengthened my understanding of hash-based data structures (such as sets) and how to use them for quick member checking.\n",
    "\n",
    "In the review and demonstration with my partner, I saw how others solved similar algorithmic problems - for example, how they used stacks to solve the problem of balanced parentheses. This helps to compare our logic and see the similarities in using simple data structures such as stacks and sets to solve real-world algorithmic challenges.\n",
    "\n",
    "Giving and receiving feedback also make me pay more attention to marginal situations, code readability, and how to clearly explain my thought process. I really appreciate the similarities between the review process and real-world code reviews - collaboration and focus on improvement. Overall, this assignment has made me more confident in solving algorithm problems and communicating technical solutions with colleagues."
   ]
  },
  {
   "cell_type": "markdown",
   "metadata": {},
   "source": [
    "\n",
    "## Evaluation Criteria\n",
    "\n",
    "We are looking for the similar points as Assignment 1\n",
    "\n",
    "-   Problem is accurately stated\n",
    "\n",
    "-   New example is correct and easily understandable\n",
    "\n",
    "-   Correctness, time, and space complexity of the coding solution\n",
    "\n",
    "-   Clarity in explaining why the solution works, its time and space complexity\n",
    "\n",
    "-   Quality of critique of your partner's assignment, if necessary\n"
   ]
  },
  {
   "cell_type": "markdown",
   "metadata": {},
   "source": [
    "## Submission Information\n",
    "\n",
    "🚨 **Please review our [Assignment Submission Guide](https://github.com/UofT-DSI/onboarding/blob/main/onboarding_documents/submissions.md)** 🚨 for detailed instructions on how to format, branch, and submit your work. Following these guidelines is crucial for your submissions to be evaluated correctly.\n",
    "\n",
    "### Submission Parameters:\n",
    "* Submission Due Date: `HH:MM AM/PM - DD/MM/YYYY`\n",
    "* The branch name for your repo should be: `assignment-2`\n",
    "* What to submit for this assignment:\n",
    "    * This Jupyter Notebook (assignment_2.ipynb) should be populated and should be the only change in your pull request.\n",
    "* What the pull request link should look like for this assignment: `https://github.com/<your_github_username>/algorithms_and_data_structures/pull/<pr_id>`\n",
    "    * Open a private window in your browser. Copy and paste the link to your pull request into the address bar. Make sure you can see your pull request properly. This helps the technical facilitator and learning support staff review your submission easily.\n",
    "\n",
    "Checklist:\n",
    "- [ ] Created a branch with the correct naming convention.\n",
    "- [ ] Ensured that the repository is public.\n",
    "- [ ] Reviewed the PR description guidelines and adhered to them.\n",
    "- [ ] Verify that the link is accessible in a private browser window.\n",
    "\n",
    "If you encounter any difficulties or have questions, please don't hesitate to reach out to our team via our Slack at `#cohort-6-help`. Our Technical Facilitators and Learning Support staff are here to help you navigate any challenges.\n"
   ]
  },
  {
   "cell_type": "code",
   "execution_count": null,
   "metadata": {},
   "outputs": [],
   "source": []
  }
 ],
 "metadata": {
  "kernelspec": {
   "display_name": "Python 3",
   "language": "python",
   "name": "python3"
  },
  "language_info": {
   "codemirror_mode": {
    "name": "ipython",
    "version": 3
   },
   "file_extension": ".py",
   "mimetype": "text/x-python",
   "name": "python",
   "nbconvert_exporter": "python",
   "pygments_lexer": "ipython3",
   "version": "3.13.3"
  }
 },
 "nbformat": 4,
 "nbformat_minor": 4
}
