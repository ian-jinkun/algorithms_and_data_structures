{
 "cells": [
  {
   "cell_type": "markdown",
   "metadata": {},
   "source": [
    "# Coding Problems\n",
    "\n",
    "## Objective\n",
    "\n",
    "This assignment aims to demonstrate how to study a data structures or algorithms question in depth to prepare for an industry coding interview. Leetcode is a popular coding practice site that many use to practice for technical interviews. Like behavioral interviews, it's important to practice and keep your skills sharp.\n",
    "\n",
    "## Group Size\n",
    "\n",
    "Please complete this individually.\n",
    "\n",
    "## Parts:\n",
    "- Part 1: Figure out the problem you have been assigned, and understand the problem\n",
    "- Part 2: Answer the questions about your assigned problem (including solving it)\n",
    "\n",
    "## Part 1:\n",
    "\n",
    "_*You will be assigned one of three problems based of your first name. Enter your first name, in all lower case, execute the code below, and that will tell you your assigned problem. Include the output as part of your submission (do not clear the output). The problems are based-off problems from Leetcode.*_\n"
   ]
  },
  {
   "cell_type": "code",
   "execution_count": 2,
   "metadata": {},
   "outputs": [
    {
     "name": "stdout",
     "output_type": "stream",
     "text": [
      "1\n"
     ]
    }
   ],
   "source": [
    "import hashlib\n",
    "\n",
    "def hash_to_range(input_string: str) -> int:\n",
    "     hash_object = hashlib.sha256(input_string.encode())\n",
    "     hash_int = int(hash_object.hexdigest(), 16)\n",
    "     return (hash_int % 3) + 1\n",
    "input_string = \"jinkun\"\n",
    "result = hash_to_range(input_string)\n",
    "print(result)\n"
   ]
  },
  {
   "cell_type": "markdown",
   "metadata": {},
   "source": [
    "## Question One: First Duplicate in List\n",
    "**Description**  \n",
    "Given a list of integers, return the **first value that appears more than once**. If there are multiple duplicates, return the one that appears **first** in the list. If no duplicate exists, return `-1`.\n",
    "\n",
    "**Examples**\n",
    "```python\n",
    "Input: nums = [3, 1, 4, 2, 5, 1, 6]\n",
    "Output: 1\n",
    "```\n",
    "```python\n",
    "Input: nums = [7, 8, 9, 10]\n",
    "Output: -1\n",
    "```\n",
    "```python\n",
    "Input: nums = [4, 5, 6, 4, 6]\n",
    "Output: 4\n",
    "```\n",
    "\n",
    "**Question 1 Starter Code**"
   ]
  },
  {
   "cell_type": "code",
   "execution_count": null,
   "metadata": {},
   "outputs": [
    {
     "name": "stdout",
     "output_type": "stream",
     "text": [
      "Input is [3, 1, 4, 2, 5, 1, 6]\n",
      "Output is 1\n",
      "\n",
      "Input is [7, 8, 9, 10]\n",
      "Output is -1\n",
      "\n",
      "Input is [4, 5, 6, 4, 6]\n",
      "Output is 4\n",
      "\n"
     ]
    }
   ],
   "source": [
    "from typing import List\n",
    "\n",
    "def first_duplicate(nums: List[int]) -> int:\n",
    "    hashTable = set() \n",
    "    for item in nums:\n",
    "        if item in hashTable:\n",
    "            return item\n",
    "        hashTable.add(item)\n",
    "    return -1\n",
    "\n",
    "nums = [3, 1, 4, 2, 5, 1, 6]\n",
    "output = first_duplicate(nums)\n",
    "print(f'Input is {nums}\\nOutput is {output}\\n')\n",
    "\n",
    "nums = [7, 8, 9, 10]\n",
    "output = first_duplicate(nums)\n",
    "print(f'Input is {nums}\\nOutput is {output}\\n')\n",
    "\n",
    "nums = [4, 5, 6, 4, 6]\n",
    "output = first_duplicate(nums)\n",
    "print(f'Input is {nums}\\nOutput is {output}\\n')"
   ]
  },
  {
   "cell_type": "markdown",
   "metadata": {},
   "source": [
    "## Question Two: Valid Bracket Sequence\n",
    "**Description**  \n",
    "Given a string containing only the characters `'('`, `')'`, `'{'`, `'}'`, `'['`, and `']'`, determine if the input string is a **valid bracket sequence**.  \n",
    "A string is valid if:\n",
    "- Open brackets are closed by the same type of brackets, and\n",
    "- Open brackets are closed in the correct order.\n",
    "\n",
    "**Examples**\n",
    "```python\n",
    "Input: s = \"([]{})\"\n",
    "Output: True\n",
    "```\n",
    "```python\n",
    "Input: s = \"([)]\"\n",
    "Output: False\n",
    "```\n",
    "```python\n",
    "Input: s = \"()[]{}\"\n",
    "Output: True\n",
    "```\n",
    "```python\n",
    "Input: s = \"[{]}\"\n",
    "Output: False\n",
    "```\n",
    "\n",
    "**Question 2 Starter Code**"
   ]
  },
  {
   "cell_type": "code",
   "execution_count": 23,
   "metadata": {},
   "outputs": [
    {
     "name": "stdout",
     "output_type": "stream",
     "text": [
      "Input is ([]{})\n",
      "Output is True\n",
      "\n",
      "Input is ([)]\n",
      "Output is False\n",
      "\n",
      "Input is ()[]{}\n",
      "Output is True\n",
      "\n",
      "Input is [{]}\n",
      "Output is False\n",
      "\n"
     ]
    }
   ],
   "source": [
    "from collections import deque\n",
    "\n",
    "def is_valid_brackets(s: str) -> bool:\n",
    "    stack = []\n",
    "    for item in s:\n",
    "        if len(stack) == 0:\n",
    "            stack.append(item)\n",
    "            continue\n",
    "        if item == '}' and '{' == stack[len(stack)-1]:\n",
    "            stack.pop()\n",
    "            continue\n",
    "        if item == ')' and '(' == stack[len(stack)-1]:\n",
    "            stack.pop()\n",
    "            continue\n",
    "        if item == ']' and '[' == stack[len(stack)-1]:\n",
    "            stack.pop()\n",
    "            continue\n",
    "\n",
    "        stack.append(item)\n",
    "\n",
    "    if len(stack) == 0:\n",
    "        return True\n",
    "    else:\n",
    "        return False\n",
    "\n",
    "s = \"([]{})\"\n",
    "output = is_valid_brackets(s)\n",
    "print(f'Input is {s}\\nOutput is {output}\\n')\n",
    "\n",
    "s = \"([)]\"\n",
    "output = is_valid_brackets(s)\n",
    "print(f'Input is {s}\\nOutput is {output}\\n')\n",
    "\n",
    "s = \"()[]{}\"\n",
    "output = is_valid_brackets(s)\n",
    "print(f'Input is {s}\\nOutput is {output}\\n')\n",
    "\n",
    "s = \"[{]}\"\n",
    "output = is_valid_brackets(s)\n",
    "print(f'Input is {s}\\nOutput is {output}\\n')"
   ]
  },
  {
   "cell_type": "markdown",
   "metadata": {},
   "source": [
    "## Question Three: Move All Zeros to End\n",
    "**Description**  \n",
    "Given a list of integers, move all zeros to the end while maintaining the relative order of the non-zero elements. \n",
    "\n",
    "**Examples**\n",
    "```python\n",
    "Input: nums = [0, 1, 0, 3, 12]\n",
    "Output: [1, 3, 12, 0, 0]\n",
    "```\n",
    "```python\n",
    "Input: nums = [4, 0, 5, 0, 0, 6]\n",
    "Output: [4, 5, 6, 0, 0, 0]\n",
    "```\n"
   ]
  },
  {
   "cell_type": "code",
   "execution_count": 27,
   "metadata": {},
   "outputs": [
    {
     "name": "stdout",
     "output_type": "stream",
     "text": [
      "Input is [0, 1, 0, 3, 12]\n",
      "Output is [1, 3, 12, 0, 0]\n",
      "\n",
      "Input is [4, 0, 5, 0, 0, 6]\n",
      "Output is [4, 5, 6, 0, 0, 0]\n",
      "\n"
     ]
    }
   ],
   "source": [
    "from typing import List\n",
    "\n",
    "def move_zeros_to_end(nums: List[int]) -> List[int]:\n",
    "    # n = len(nums)\n",
    "    # res = [0] * n\n",
    "    # i = 0 \n",
    "    # for item in nums:\n",
    "    #     if item != 0:\n",
    "    #         res[i] = item\n",
    "    #         i += 1\n",
    "    # return res    \n",
    "    left = 0\n",
    "    for right in range(len(nums)):\n",
    "        if nums[right] != 0:\n",
    "            nums[left], nums[right] = nums[right], nums[left]\n",
    "            left += 1\n",
    "    return nums\n",
    "\n",
    "nums = [0, 1, 0, 3, 12]\n",
    "print(f'Input is {nums}')\n",
    "output = move_zeros_to_end(nums)\n",
    "print(f'Output is {output}\\n')\n",
    "\n",
    "\n",
    "nums = [4, 0, 5, 0, 0, 6]\n",
    "print(f'Input is {nums}')\n",
    "output = move_zeros_to_end(nums)\n",
    "print(f'Output is {output}\\n')\n"
   ]
  },
  {
   "cell_type": "markdown",
   "metadata": {},
   "source": [
    "\n",
    "## Part 2:\n",
    "\n",
    "-   Paraphrase the problem in your own \n"
   ]
  },
  {
   "cell_type": "markdown",
   "metadata": {},
   "source": [
    "# Your answer here\n",
    "Question 1:\n",
    "\n",
    "The question requires:\n",
    "Given a list of integers nums, find the first number that repeats. That is to say, when you traverse the list from left to right, find the first value that appears for the second time. If there are no duplicate values, return -1.\n",
    "\n",
    "Some details:\n",
    "The \"first\" repeated value refers to the earliest encountered number that appears for the second time.\n",
    "It is not about finding the smallest repeated value, but the earliest point of conflict.\n",
    "What is returned is this duplicate value, not the index."
   ]
  },
  {
   "cell_type": "markdown",
   "metadata": {},
   "source": [
    "- In this .ipynb file, there are examples that illustrate how the code should work (the examples provided above). Create 2 new examples for the question you have been assigned, that demonstrate you understand the problem. For question 1 and 2, you don't need to create the tree demonstration, just the input and output.\n"
   ]
  },
  {
   "cell_type": "code",
   "execution_count": 33,
   "metadata": {},
   "outputs": [],
   "source": [
    "# Your answer here\n",
    "nums1 = [3, 1, 4, 2, 5, 1, 6]\n",
    "nums2 = [7, 8, 9, 10]\n",
    "nums3 = [4, 5, 6, 4, 6]\n"
   ]
  },
  {
   "cell_type": "markdown",
   "metadata": {},
   "source": [
    "\n",
    "-   Code the solution to your assigned problem in Python (code chunk). Note: each problem can be solved more simply if you use an abstract data type that is suitable for that problem. Using that try to find the best time and space complexity solution!\n",
    "\n"
   ]
  },
  {
   "cell_type": "code",
   "execution_count": 34,
   "metadata": {},
   "outputs": [
    {
     "name": "stdout",
     "output_type": "stream",
     "text": [
      "Input is [3, 1, 4, 2, 5, 1, 6]\n",
      "Output is 1\n",
      "\n",
      "Input is [7, 8, 9, 10]\n",
      "Output is -1\n",
      "\n",
      "Input is [4, 5, 6, 4, 6]\n",
      "Output is 4\n",
      "\n"
     ]
    }
   ],
   "source": [
    "# Your answer here\n",
    "from typing import List\n",
    "\n",
    "def first_duplicate(nums: List[int]) -> int:\n",
    "    hashTable = set() \n",
    "    for item in nums:\n",
    "        if item in hashTable:\n",
    "            return item\n",
    "        hashTable.add(item)\n",
    "    return -1\n",
    "\n",
    "\n",
    "output1 = first_duplicate(nums1)\n",
    "print(f'Input is {nums1}\\nOutput is {output1}\\n')\n",
    "\n",
    "output2 = first_duplicate(nums2)\n",
    "print(f'Input is {nums2}\\nOutput is {output2}\\n')\n",
    "\n",
    "output3 = first_duplicate(nums3)\n",
    "print(f'Input is {nums3}\\nOutput is {output3}\\n')\n"
   ]
  },
  {
   "cell_type": "markdown",
   "metadata": {},
   "source": [
    "\n",
    "-   Explain why your solution works\n"
   ]
  },
  {
   "cell_type": "markdown",
   "metadata": {},
   "source": [
    "My solution uses a set to track which elements have already been seen as we iterate through the list.\n",
    "\n",
    "Initialize an empty set, this will store all the unique elements we encounter.\n",
    "\n",
    "Iterate through the list from left to right:\n",
    "For each element, if it’s already in the set, it means we’ve seen this number before — this is the first duplicate, so we return it immediately.\n",
    "\n",
    "If it’s not in the set, we add it to the set and move on.\n",
    "\n",
    "If no duplicate is found during the loop, we return -1."
   ]
  },
  {
   "cell_type": "markdown",
   "metadata": {},
   "source": [
    "\n",
    "-   Explain the problem’s time and space complexity\n"
   ]
  },
  {
   "cell_type": "markdown",
   "metadata": {},
   "source": [
    "Time complexity is O(n), space complexity is O(n) (n be the length of the input list nums)\n",
    "\n",
    "We iterate through the list exactly once, checking whether each number is in a set.\n",
    "Each check num in seen and insertion seen.add(num) is O(1) on average, thanks to Python’s hash-based set implementation.\n"
   ]
  },
  {
   "cell_type": "markdown",
   "metadata": {},
   "source": [
    "\n",
    "-   Explain the thinking to an alternative solution (no coding required, but a classmate reading this should be able to code it up based off your text)\n"
   ]
  },
  {
   "cell_type": "markdown",
   "metadata": {},
   "source": [
    "Alternative Solution: Brute Force with Two Loops\n",
    "\n",
    "\n",
    "This solution uses a double-layer loop to check whether there has been any repetition after each element. \n",
    "\n",
    "Steps:\n",
    "1. Traverse each element i in the list\n",
    "For the current element nums[i], use another inner loop from index i+1 to the end:\n",
    "Compare nums[i] and nums[j].\n",
    "If they are equal, it indicates that a repetition has been found.\n",
    "Record this duplicate value and the position j where it occurs for the second time.\n",
    "2. Among all the discovered duplicates, select the one that appears at the earliest position for the second time, that is, the earliest duplicate.\n",
    "3. If no repetition is found throughout the process, return -1.\n",
    "\n",
    "\n",
    "Time complexity of O(n²)\n",
    "Do not use additional space (except for some variables), so the space complexity is O(1)."
   ]
  },
  {
   "cell_type": "markdown",
   "metadata": {},
   "source": [
    "## Evaluation Criteria\n",
    "\n",
    "-   Problem is accurately stated\n",
    "\n",
    "-   Two examples are correct and easily understandable\n",
    "\n",
    "-   Correctness, time, and space complexity of the coding solution\n",
    "\n",
    "-   Clarity in explaining why the solution works, its time and space complexity\n",
    "\n",
    "-   Clarity in the proposal to the alternative solution"
   ]
  },
  {
   "cell_type": "markdown",
   "metadata": {},
   "source": [
    "## Submission Information\n",
    "\n",
    "🚨 **Please review our [Assignment Submission Guide](https://github.com/UofT-DSI/onboarding/blob/main/onboarding_documents/submissions.md)** 🚨 for detailed instructions on how to format, branch, and submit your work. Following these guidelines is crucial for your submissions to be evaluated correctly.\n",
    "\n",
    "### Submission Parameters:\n",
    "* Submission Due Date: `HH:MM AM/PM - DD/MM/YYYY`\n",
    "* The branch name for your repo should be: `assignment-1`\n",
    "* What to submit for this assignment:\n",
    "    * This Jupyter Notebook (assignment_1.ipynb) should be populated and should be the only change in your pull request.\n",
    "* What the pull request link should look like for this assignment: `https://github.com/<your_github_username>/algorithms_and_data_structures/pull/<pr_id>`\n",
    "    * Open a private window in your browser. Copy and paste the link to your pull request into the address bar. Make sure you can see your pull request properly. This helps the technical facilitator and learning support staff review your submission easily.\n",
    "\n",
    "Checklist:\n",
    "- [ ] Create a branch called `assignment-1`.\n",
    "- [ ] Ensure that the repository is public.\n",
    "- [ ] Review [the PR description guidelines](https://github.com/UofT-DSI/onboarding/blob/main/onboarding_documents/submissions.md#guidelines-for-pull-request-descriptions) and adhere to them.\n",
    "- [ ] Verify that the link is accessible in a private browser window.\n",
    "\n",
    "If you encounter any difficulties or have questions, please don't hesitate to reach out to our team via our Slack at `#cohort-3-help`. Our Technical Facilitators and Learning Support staff are here to help you navigate any challenges."
   ]
  }
 ],
 "metadata": {
  "kernelspec": {
   "display_name": "Python 3",
   "language": "python",
   "name": "python3"
  },
  "language_info": {
   "codemirror_mode": {
    "name": "ipython",
    "version": 3
   },
   "file_extension": ".py",
   "mimetype": "text/x-python",
   "name": "python",
   "nbconvert_exporter": "python",
   "pygments_lexer": "ipython3",
   "version": "3.13.3"
  }
 },
 "nbformat": 4,
 "nbformat_minor": 4
}
